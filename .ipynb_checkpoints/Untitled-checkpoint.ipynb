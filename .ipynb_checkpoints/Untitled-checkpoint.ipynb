{
 "cells": [
  {
   "cell_type": "markdown",
   "metadata": {},
   "source": [
    "# Program 1"
   ]
  },
  {
   "cell_type": "code",
   "execution_count": null,
   "metadata": {},
   "outputs": [],
   "source": [
    "import speech_recognition as sr\n",
    "print(sr.__version__)\n",
    "r = sr.Recognizer()\n",
    "harvard = sr.AudioFile('harvard.wav')\n",
    "with harvard as source:\n",
    "    audio = r.record(source)\n",
    "\n",
    "print(r.recognize_google(audio,show_all=True))"
   ]
  },
  {
   "cell_type": "markdown",
   "metadata": {},
   "source": [
    "# Program 2"
   ]
  },
  {
   "cell_type": "code",
   "execution_count": null,
   "metadata": {},
   "outputs": [],
   "source": [
    "import speech_recognition as sr\n",
    "print(sr.__version__)\n",
    "r = sr.Recognizer()\n",
    "mic = sr.Microphone()\n",
    "# harvard = sr.AudioFile('harvard.wav')\n",
    "while True:\n",
    "    with mic as source:\n",
    "        r.adjust_for_ambient_noise(source)\n",
    "        print(\"Speak Something\")\n",
    "        audio = r.listen(source)\n",
    "\n",
    "    # print(r.recognize_google(audio))\n",
    "    if r.recognize_google(audio) == \"commander\":\n",
    "        with mic as source:\n",
    "            r.adjust_for_ambient_noise(source)\n",
    "            print(\"What can I do for you?\")\n",
    "            audio = r.listen(source)\n",
    "        print(\"You just said \" + r.recognize_google(audio) + \". I will try to google it\")"
   ]
  },
  {
   "cell_type": "markdown",
   "metadata": {},
   "source": [
    "# Program 3"
   ]
  },
  {
   "cell_type": "code",
   "execution_count": null,
   "metadata": {},
   "outputs": [],
   "source": [
    "import pyttsx3\n",
    "engine = pyttsx3.init()\n",
    "engine.say('Good morning.')\n",
    "engine.runAndWait()\n",
    "\n",
    "\n",
    "# Program 4\n",
    "import speech_recognition as sr\n",
    "import pyttsx3\n",
    "engine = pyttsx3.init()\n",
    "r = sr.Recognizer()\n",
    "mic = sr.Microphone()\n",
    "while True:\n",
    "    with mic as source:\n",
    "        r.adjust_for_ambient_noise(source)\n",
    "        print(\"Speak Something\")\n",
    "        audio = r.listen(source)\n",
    "\n",
    "    if r.recognize_google(audio) == \"commander\":\n",
    "        with mic as source:\n",
    "            r.adjust_for_ambient_noise(source)\n",
    "            print(\"What can I do for you?\")\n",
    "            audio = r.listen(source)\n",
    "        engine.say(\"You just said \" + r.recognize_google(audio) + \". I will try to google it\")\n",
    "        engine.runAndWait()"
   ]
  }
 ],
 "metadata": {
  "kernelspec": {
   "display_name": "Python 3",
   "language": "python",
   "name": "python3"
  },
  "language_info": {
   "codemirror_mode": {
    "name": "ipython",
    "version": 3
   },
   "file_extension": ".py",
   "mimetype": "text/x-python",
   "name": "python",
   "nbconvert_exporter": "python",
   "pygments_lexer": "ipython3",
   "version": "3.7.3"
  }
 },
 "nbformat": 4,
 "nbformat_minor": 2
}
