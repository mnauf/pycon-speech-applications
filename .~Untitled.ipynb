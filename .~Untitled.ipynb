{
 "cells": [
  {
   "cell_type": "markdown",
   "metadata": {},
   "source": [
    "# Program 1"
   ]
  },
  {
   "cell_type": "code",
   "execution_count": 10,
   "metadata": {},
   "outputs": [
    {
     "name": "stdout",
     "output_type": "stream",
     "text": [
      "3.8.1\n",
      "{'alternative': [{'transcript': 'the salesman old beer drinkers it takes hi to bring out the older I call dip restore selfinvest a salt a call this find him because of my favourite is just for food is Bihar cross bun', 'confidence': 0.92094278}, {'transcript': 'the sales Mela old beer drinkers it takes hi to bring out the older I call dip restore selfinvest a salt a call this find him because of my favourite is just for food is Bihar cross bun'}, {'transcript': 'best elss Mela old beer drinkers it takes hi to bring out the older I call dip restore selfinvest a salt a call this find him because of my favourite is just for food is Bihar cross bun'}, {'transcript': 'the salesman old beer drinkers it takes hi to bring out the older I call Deep restore selfinvest a salt a call this find him because of my favourite is just for food is Bihar cross bun'}, {'transcript': 'the sales Mela old beer drinkers it takes hi to bring out the older I call Deep restore selfinvest a salt a call this find him because of my favourite is just for food is Bihar cross bun'}], 'final': True}\n"
     ]
    }
   ],
   "source": [
    "import speech_recognition as sr\n",
    "print(sr.__version__)\n",
    "r = sr.Recognizer()\n",
    "harvard = sr.AudioFile('harvard.wav')\n",
    "with harvard as source:\n",
    "    audio = r.record(source)\n",
    "\n",
    "print(r.recognize_google(audio,show_all=True))"
   ]
  },
  {
   "cell_type": "markdown",
   "metadata": {},
   "source": [
    "# Program 2"
   ]
  },
  {
   "cell_type": "code",
   "execution_count": 13,
   "metadata": {},
   "outputs": [
    {
     "name": "stdout",
     "output_type": "stream",
     "text": [
      "3.8.1\n",
      "Speak Something\n",
      "Speak Something\n",
      "What can I do for you?\n",
      "You just said who is the President of Pakistan. I will try to google it\n",
      "Speak Something\n",
      "Quitting\n"
     ]
    }
   ],
   "source": [
    "import speech_recognition as sr\n",
    "print(sr.__version__)\n",
    "r = sr.Recognizer()\n",
    "mic = sr.Microphone()\n",
    "# harvard = sr.AudioFile('harvard.wav')\n",
    "while True:\n",
    "    try:\n",
    "        with mic as source:\n",
    "            r.adjust_for_ambient_noise(source)\n",
    "            print(\"Speak Something\")\n",
    "            audio = r.listen(source)\n",
    "\n",
    "        # print(r.recognize_google(audio))\n",
    "        if r.recognize_google(audio) == \"commander\":\n",
    "            with mic as source:\n",
    "                r.adjust_for_ambient_noise(source)\n",
    "                print(\"What can I do for you?\")\n",
    "                audio = r.listen(source)\n",
    "            print(\"You just said \" + r.recognize_google(audio) + \". I will try to google it\")\n",
    "    except:\n",
    "        print(\"Quitting\")\n",
    "        break"
   ]
  },
  {
   "cell_type": "markdown",
   "metadata": {},
   "source": [
    "# Program 3"
   ]
  },
  {
   "cell_type": "code",
   "execution_count": 14,
   "metadata": {},
   "outputs": [],
   "source": [
    "import pyttsx3\n",
    "engine = pyttsx3.init()\n",
    "engine.say('Good morning.')\n",
    "engine.runAndWait()"
   ]
  },
  {
   "cell_type": "markdown",
   "metadata": {},
   "source": [
    "# Program 4"
   ]
  },
  {
   "cell_type": "code",
   "execution_count": 17,
   "metadata": {},
   "outputs": [
    {
     "name": "stdout",
     "output_type": "stream",
     "text": [
      "Speak Something\n",
      "What can I do for you?\n",
      "Speak Something\n",
      "Quitting\n"
     ]
    }
   ],
   "source": [
    "import speech_recognition as sr\n",
    "import pyttsx3\n",
    "engine = pyttsx3.init()\n",
    "r = sr.Recognizer()\n",
    "mic = sr.Microphone()\n",
    "while True:\n",
    "    try:\n",
    "        with mic as source:\n",
    "            r.adjust_for_ambient_noise(source)\n",
    "            print(\"Speak Something\")\n",
    "            audio = r.listen(source)\n",
    "\n",
    "        if r.recognize_google(audio) == \"commander\":\n",
    "            with mic as source:\n",
    "                r.adjust_for_ambient_noise(source)\n",
    "                print(\"What can I do for you?\")\n",
    "                audio = r.listen(source)\n",
    "            engine.say(\"You just said \" + r.recognize_google(audio) + \". I will try to google it\")\n",
    "            engine.runAndWait()\n",
    "    except:\n",
    "        print(\"Quitting\")\n",
    "        break"
   ]
  },
  {
   "cell_type": "code",
   "execution_count": null,
   "metadata": {},
   "outputs": [],
   "source": []
  }
 ],
 "metadata": {
  "kernelspec": {
   "display_name": "Python 3",
   "language": "python",
   "name": "python3"
  }
 },
 "nbformat": 4,
 "nbformat_minor": 2
}
